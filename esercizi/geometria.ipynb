{
  "cells": [
    {
      "cell_type": "markdown",
      "metadata": {
        "id": "HB3XbPDcSqe1"
      },
      "source": [
        "# Esercizi Geometrici"
      ]
    },
    {
      "cell_type": "markdown",
      "metadata": {
        "id": "LCcywn6v2KxD"
      },
      "source": [
        "In Python per stampare consecutivamente più parole senza creare una riga per ognuna bisogna usare il seguente codice:\n"
      ]
    },
    {
      "cell_type": "code",
      "execution_count": 1,
      "metadata": {
        "colab": {
          "base_uri": "https://localhost:8080/"
        },
        "id": "PHdyo8E42sza",
        "outputId": "fb51a75d-54ef-48c3-f6ad-342834d2738b"
      },
      "outputs": [
        {
          "name": "stdout",
          "output_type": "stream",
          "text": [
            "Parola 1 Parola 2.\n",
            "Parola 3\n"
          ]
        }
      ],
      "source": [
        "print(\"Parola 1\", end=\" \")\n",
        "print(\"Parola 2\", end=\".\\n\")\n",
        "print(\"Parola 3\")"
      ]
    },
    {
      "cell_type": "code",
      "execution_count": 1,
      "metadata": {
        "colab": {
          "base_uri": "https://localhost:8080/"
        },
        "id": "0U7L9A29RfeT",
        "outputId": "ccdd9b72-55df-486a-a68d-cfe73e90461d"
      },
      "outputs": [
        {
          "name": "stdout",
          "output_type": "stream",
          "text": [
            "Scrivi il lato del quadrato:10\n",
            "\n",
            " *  *  *  *  *  *  *  *  *  * \n",
            " *  *  *  *  *  *  *  *  *  * \n",
            " *  *  *  *  *  *  *  *  *  * \n",
            " *  *  *  *  *  *  *  *  *  * \n",
            " *  *  *  *  *  *  *  *  *  * \n",
            " *  *  *  *  *  *  *  *  *  * \n",
            " *  *  *  *  *  *  *  *  *  * \n",
            " *  *  *  *  *  *  *  *  *  * \n",
            " *  *  *  *  *  *  *  *  *  * \n",
            " *  *  *  *  *  *  *  *  *  * "
          ]
        }
      ],
      "source": [
        "# Es 6.1: Scrivi la funzione quadrato(n) che stampi a schermo un quadrato di lato nxn formato utilizzando il carattere *\n",
        "#         Esempio:    3 ->  * * *       4 ->  * * * *\n",
        "#                           * * *             * * * *\n",
        "#                           * * *             * * * *\n",
        "#                                             * * * *\n",
        "print(\"Scrivi il lato del quadrato:\", end=\"\")\n",
        "l=int(input())\n",
        "print(l)\n",
        "while l<0:\n",
        "    print(\"Scrivi il lato del quadrato:\", end=\"\")\n",
        "    l=int(input())\n",
        "    print(l)\n",
        "def quadrato(l):\n",
        "    i=0\n",
        "    while i<l:\n",
        "        print(end=\"\\n\")\n",
        "        j=0\n",
        "        i=i+1\n",
        "        while j<l:\n",
        "            if \n",
        "            print(\" * \",end=\"\")\n",
        "            j=j+1\n",
        "quadrato(l)"
      ]
    },
    {
      "cell_type": "code",
      "execution_count": 2,
      "metadata": {
        "id": "gE3RVr9ORuwP"
      },
      "outputs": [
        {
          "name": "stdout",
          "output_type": "stream",
          "text": [
            "Scrivi il lato lungo del rettangolo:10\n",
            "\n",
            " *  *  *  *  *  *  *  *  *  *  *  *  *  *  *  *  *  *  *  * \n",
            " *  *  *  *  *  *  *  *  *  *  *  *  *  *  *  *  *  *  *  * \n",
            " *  *  *  *  *  *  *  *  *  *  *  *  *  *  *  *  *  *  *  * \n",
            " *  *  *  *  *  *  *  *  *  *  *  *  *  *  *  *  *  *  *  * \n",
            " *  *  *  *  *  *  *  *  *  *  *  *  *  *  *  *  *  *  *  * \n",
            " *  *  *  *  *  *  *  *  *  *  *  *  *  *  *  *  *  *  *  * \n",
            " *  *  *  *  *  *  *  *  *  *  *  *  *  *  *  *  *  *  *  * \n",
            " *  *  *  *  *  *  *  *  *  *  *  *  *  *  *  *  *  *  *  * \n",
            " *  *  *  *  *  *  *  *  *  *  *  *  *  *  *  *  *  *  *  * \n",
            " *  *  *  *  *  *  *  *  *  *  *  *  *  *  *  *  *  *  *  * "
          ]
        }
      ],
      "source": [
        "# Es 6.2: Scrivi la funzione rettangolo(n) che stampi a schermo un rettangolo di lato nx2n formato utilizzando il carattere *\n",
        "#         Esempio:    3 ->  * * * * * *         4 ->  * * * * * * * *\n",
        "#                           * * * * * *               * * * * * * * *\n",
        "#                           * * * * * *               * * * * * * * *\n",
        "#                                                     * * * * * * * *\n",
        "print(\"Scrivi il lato lungo del rettangolo:\", end=\"\")\n",
        "l=int(input())\n",
        "print(l)\n",
        "while l<0:\n",
        "    print(\"Scrivi il lato lungo del rettangolo:\", end=\"\")\n",
        "    l=int(input())\n",
        "    print(l)\n",
        "def rettangolo(l):\n",
        "    i=0\n",
        "    while i<l:\n",
        "        print(end=\"\\n\")\n",
        "        j=0\n",
        "        i=i+1\n",
        "        while j<2*l:    #basta moltiplicare in questa riga l*2 e SBAM\n",
        "            print(\" * \",end=\"\")\n",
        "            j=j+1\n",
        "rettangolo(l)"
      ]
    },
    {
      "cell_type": "code",
      "execution_count": 3,
      "metadata": {
        "id": "r1A_DavcSKgi"
      },
      "outputs": [
        {
          "name": "stdout",
          "output_type": "stream",
          "text": [
            "Scrivi lunghezza del cateto del triangolo:10\n",
            "\n",
            " * \n",
            " *  * \n",
            " *  *  * \n",
            " *  *  *  * \n",
            " *  *  *  *  * \n",
            " *  *  *  *  *  * \n",
            " *  *  *  *  *  *  * \n",
            " *  *  *  *  *  *  *  * \n",
            " *  *  *  *  *  *  *  *  * \n",
            " *  *  *  *  *  *  *  *  *  * "
          ]
        }
      ],
      "source": [
        "# Es 6.3: Scrivi la funzione triangolo_rettangolo(n) che stampi a schermo un triangolo di cateti n e n formato utilizzando il carattere *\n",
        "#         Esempio:    3 ->  *           4 ->  *\n",
        "#                           * *               * *\n",
        "#                           * * *             * * *\n",
        "#                                             * * * *\n",
        "print(\"Scrivi lunghezza del cateto del triangolo:\", end=\"\")\n",
        "l=int(input())\n",
        "print(l)\n",
        "while l<0:\n",
        "    print(\"Scrivi lunghezza del cateto del triangolo:\", end=\"\")\n",
        "    l=int(input())\n",
        "    print(l)\n",
        "def triangolo_rettangolo(l):\n",
        "    i=0\n",
        "    while i<l:\n",
        "        print(end=\"\\n\")\n",
        "        j=0\n",
        "        i=i+1\n",
        "        while j<l-(l-i):    #se io avessi messo come condizione j<l-i --> avrei avuto una piramide al contrario, facendo così j<l-(l-i) la inverto \n",
        "            print(\" * \",end=\"\")\n",
        "            j=j+1\n",
        "triangolo_rettangolo(l)\n"
      ]
    },
    {
      "cell_type": "code",
      "execution_count": 4,
      "metadata": {
        "id": "iA9D4X_GSims"
      },
      "outputs": [
        {
          "name": "stdout",
          "output_type": "stream",
          "text": [
            "Scrivi lunghezza del quadrato:10\n",
            "\n",
            " *  *  *  *  *  *  *  *  *  * \n",
            " *                          * \n",
            " *                          * \n",
            " *                          * \n",
            " *                          * \n",
            " *                          * \n",
            " *                          * \n",
            " *                          * \n",
            " *                          * \n",
            " *  *  *  *  *  *  *  *  *  * "
          ]
        }
      ],
      "source": [
        "# Es 6.4: Scrivi la funzione bordo_quadrato(n) che stampi a schermo un quadrato di lato nxn formato utilizzando il carattere * come contorno\n",
        "#         Esempio:    3 ->  * * *       4 ->  * * * *\n",
        "#                           *   *             *     *\n",
        "#                           * * *             *     *\n",
        "#                                             * * * *\n",
        "print(\"Scrivi lunghezza del quadrato:\", end=\"\")\n",
        "l=int(input())\n",
        "print(l)\n",
        "while l<0:\n",
        "    print(\"Scrivi lunghezza del quadrato:\", end=\"\")\n",
        "    l=int(input())\n",
        "    print(l)\n",
        "def bordo_quadrato(l):\n",
        "    i=0\n",
        "    while i<l:\n",
        "        print(end=\"\\n\")\n",
        "        j=0\n",
        "        if i==0 or i==l-1:\n",
        "            while j<l:    \n",
        "                print(\" * \",end=\"\")\n",
        "                j=j+1\n",
        "        if i>0 and i<l-1:\n",
        "            while j<l: \n",
        "                if j==0 or j==l-1: \n",
        "                    print(\" * \",end=\"\")\n",
        "                    j=j+1\n",
        "                else:\n",
        "                    print(\"   \",end=\"\")\n",
        "                    j=j+1\n",
        "        i=i+1\n",
        "bordo_quadrato(l)"
      ]
    },
    {
      "cell_type": "code",
      "execution_count": 5,
      "metadata": {
        "colab": {
          "base_uri": "https://localhost:8080/"
        },
        "id": "1vlDMqo_4uNc",
        "outputId": "de4cc1b2-7110-4ad6-b86c-d67c5756c074"
      },
      "outputs": [
        {
          "name": "stdout",
          "output_type": "stream",
          "text": [
            "Scrivi lunghezza del quadrato:10\n",
            "\n",
            " /  -  -  -  -  -  -  -  -  \\ \n",
            " |                          | \n",
            " |                          | \n",
            " |                          | \n",
            " |                          | \n",
            " |                          | \n",
            " |                          | \n",
            " |                          | \n",
            " |                          | \n",
            " \\  -  -  -  -  -  -  -  -  / "
          ]
        }
      ],
      "source": [
        "# Es 6.5: Scrivi la funzione bordo_quadrato_bello(n) che stampi a schermo un quadrato di lato nxn formato utilizzando iseguenti caratteri:\n",
        "#         Esempio:    3 ->  / - \\       4 ->  / - - \\\n",
        "#                           |   |             |     |\n",
        "#                           \\ - /             |     |\n",
        "#                                             \\ - - /\n",
        "# Per stampare \\ dovete utilizzare \"\\\\\" ovvero print(\"\\\\\")\n",
        "print(\"Scrivi lunghezza del quadrato:\", end=\"\")\n",
        "l=int(input())\n",
        "print(l)\n",
        "while l<0:\n",
        "    print(\"Scrivi lunghezza del quadrato:\", end=\"\")\n",
        "    l=int(input())\n",
        "    print(l)\n",
        "def bordo_quadrato_bello(l):\n",
        "    i=0\n",
        "    while i<l:\n",
        "        print(end=\"\\n\")\n",
        "        j=0\n",
        "        if i==0:\n",
        "            while j<l:    \n",
        "                if j==0:\n",
        "                    print(\" / \",end=\"\")\n",
        "                    j=j+1\n",
        "                if j==l-1:\n",
        "                    print(\" \\\\ \",end=\"\")\n",
        "                    j=j+1\n",
        "                else:\n",
        "                    print(\" - \",end=\"\")\n",
        "                    j=j+1\n",
        "        if i==l-1:\n",
        "            while j<l:    \n",
        "                if j==0:\n",
        "                    print(\" \\\\ \",end=\"\")\n",
        "                    j=j+1\n",
        "                if j==l-1:\n",
        "                    print(\" / \",end=\"\")\n",
        "                    j=j+1\n",
        "                else:\n",
        "                    print(\" - \",end=\"\")\n",
        "                    j=j+1\n",
        "        else:\n",
        "            while j<l: \n",
        "                if j==0 or j==l-1: \n",
        "                    print(\" | \",end=\"\")\n",
        "                    j=j+1\n",
        "                else:\n",
        "                    print(\"   \",end=\"\")\n",
        "                    j=j+1\n",
        "        i=i+1\n",
        "bordo_quadrato_bello(l)"
      ]
    },
    {
      "cell_type": "code",
      "execution_count": 6,
      "metadata": {
        "id": "2E9Hk9kkv5Mx"
      },
      "outputs": [
        {
          "name": "stdout",
          "output_type": "stream",
          "text": [
            "Scrivi lunghezza del cateto del triangolo:10\n",
            "\n",
            "^\\\n",
            "| \\\n",
            "|  \\\n",
            "|   \\\n",
            "|    \\\n",
            "|     \\\n",
            "|      \\\n",
            "|       \\\n",
            "|        \\\n",
            "|_________\\"
          ]
        }
      ],
      "source": [
        "# Es 6.6: Scrivi la funzione trianglo_bello(n) che stampi a schermo un triangolo di cateti n e n formato utilizzando iseguenti caratteri:\n",
        "#.   ^\\\n",
        "#    | \\\n",
        "#.   |  \\\n",
        "#.   |___\\\n",
        "print(\"Scrivi lunghezza del cateto del triangolo:\", end=\"\")\n",
        "l=int(input())\n",
        "print(l)\n",
        "while l<0:\n",
        "    print(\"Scrivi lunghezza del cateto del triangolo:\", end=\"\")\n",
        "    l=int(input())\n",
        "    print(l)\n",
        "def triangolo_rettangolo(l):\n",
        "    i=0\n",
        "    while i<l:\n",
        "        print(end=\"\\n\")\n",
        "        j=0\n",
        "        if i==0:\n",
        "            while j<(l+1)-(l-(i+1)):    \n",
        "                if j==0:\n",
        "                    print(\"^\",end=\"\")\n",
        "                    j=j+1\n",
        "                else:\n",
        "                    print(\"\\\\\",end=\"\")\n",
        "                    j=j+1\n",
        "        if i==l-1:\n",
        "            while j<(l+1)-(l-(i+1)):     \n",
        "                if j==0:\n",
        "                    print(\"|\",end=\"\")\n",
        "                    j=j+1\n",
        "                if j==((l+1)-(l-(i+1))-1):\n",
        "                    print(\"\\\\\",end=\"\")\n",
        "                    j=j+1\n",
        "                else:\n",
        "                    print(\"_\",end=\"\")\n",
        "                    j=j+1\n",
        "                \n",
        "        else:\n",
        "            while j<(l+1)-(l-(i+1)):\n",
        "                if j==0:\n",
        "                    print(\"|\",end=\"\")\n",
        "                    j=j+1\n",
        "                if j==((l+1)-(l-(i+1))-1):\n",
        "                    print(\"\\\\\",end=\"\")\n",
        "                    j=j+1\n",
        "                else:\n",
        "                    print(\" \",end=\"\")\n",
        "                    j=j+1\n",
        "        i=i+1\n",
        "triangolo_rettangolo(l)\n",
        "\n",
        "#secondo me l'ho fatto troppo complicato, ma va beh"
      ]
    }
  ],
  "metadata": {
    "colab": {
      "provenance": []
    },
    "kernelspec": {
      "display_name": "Python 3",
      "name": "python3"
    },
    "language_info": {
      "codemirror_mode": {
        "name": "ipython",
        "version": 3
      },
      "file_extension": ".py",
      "mimetype": "text/x-python",
      "name": "python",
      "nbconvert_exporter": "python",
      "pygments_lexer": "ipython3",
      "version": "3.10.8"
    }
  },
  "nbformat": 4,
  "nbformat_minor": 0
}
