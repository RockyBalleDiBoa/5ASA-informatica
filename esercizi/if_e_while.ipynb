{
  "cells": [
    {
      "cell_type": "markdown",
      "metadata": {
        "id": "HB3XbPDcSqe1"
      },
      "source": [
        "# Esercizi IF"
      ]
    },
    {
      "cell_type": "code",
      "execution_count": 61,
      "metadata": {
        "id": "0U7L9A29RfeT"
      },
      "outputs": [
        {
          "name": "stdout",
          "output_type": "stream",
          "text": [
            "Dispari\n"
          ]
        }
      ],
      "source": [
        "# Es 4.1: Ottenere dall'utente un numero in input e scrivere a schermo \"Pari\" se il numero è pari, scrivere \n",
        "# \"Dispari\" altrimenti\n",
        "x = int(input())   \n",
        "if x%2 == 0:\n",
        "    print (\"Pari\")\n",
        "else: \n",
        "    print (\"Dispari\")"
      ]
    },
    {
      "cell_type": "code",
      "execution_count": 62,
      "metadata": {
        "id": "gE3RVr9ORuwP"
      },
      "outputs": [
        {
          "name": "stdout",
          "output_type": "stream",
          "text": [
            "E' un triangolo\n"
          ]
        }
      ],
      "source": [
        "# Es 4.2: Ottenere dall'utente tre angoli caso siano i tre angoli di un triangolo scrivere a \n",
        "# schermo \"È un triangolo\", altrimenti \"Non è un triangolo\"\n",
        "x = float(input())\n",
        "y = float(input())\n",
        "z = float(input())\n",
        "somma = x+y+z\n",
        "if x>0 and y>0 and z>0:\n",
        "    if somma == 180:\n",
        "        print(\"E' un triangolo\")\n",
        "    else:\n",
        "        print(\"Non è un triangolo\")\n",
        "else: \n",
        "    print(\"Inserire degli angoli maggiori di 0. Grazie :)\")\n",
        "\n"
      ]
    },
    {
      "cell_type": "code",
      "execution_count": 63,
      "metadata": {
        "id": "r1A_DavcSKgi"
      },
      "outputs": [
        {
          "name": "stdout",
          "output_type": "stream",
          "text": [
            "E' un triangolo\n"
          ]
        }
      ],
      "source": [
        "# Es 4.3: Ottenuti dall'utente tre angoli di un tringolo scrivere a schermo se i tre angoli descrivono \n",
        "# un triangolo rettangolo o no\n",
        "x = float(input())\n",
        "y = float(input())\n",
        "z = float(input())\n",
        "somma = x+y+z\n",
        "if x>0 and y>0 and z>0:\n",
        "    if somma == 180:\n",
        "        print(\"E' un triangolo\")\n",
        "        if x==90 or y==90 or z==90:\n",
        "            print(\"Il triangolo è rettangolo\")\n",
        "    else:\n",
        "        print(\"Non è un triangolo\")\n",
        "else: \n",
        "    print(\"Inserire degli angoli maggiori di 0. Grazie :)\")"
      ]
    },
    {
      "cell_type": "code",
      "execution_count": 64,
      "metadata": {
        "id": "iA9D4X_GSims"
      },
      "outputs": [
        {
          "name": "stdout",
          "output_type": "stream",
          "text": [
            "E' un triangolo\n",
            "Il triangolo è rettangolo\n"
          ]
        }
      ],
      "source": [
        "# Es 4.4: Ottenuti dall'utente tre angoli di un tringolo scrivere a schermo se i tre angoli descrivono \n",
        "# un triangolo equilatero o no\n",
        "x = float(input())\n",
        "y = float(input())\n",
        "z = float(input())\n",
        "somma = x+y+z\n",
        "if x>0 and y>0 and z>0:\n",
        "    if somma == 180:\n",
        "        print(\"E' un triangolo\")\n",
        "        if x==90 or y==90 or z==90:\n",
        "            print(\"Il triangolo è rettangolo\")\n",
        "        if x==60 and y==60 and z==60:\n",
        "            print(\"E' un triangolo equilatero\")\n",
        "    else:\n",
        "        print(\"Non è un triangolo\")\n",
        "else: \n",
        "    print(\"Inserire degli angoli maggiori di 0. Grazie :)\")"
      ]
    },
    {
      "cell_type": "code",
      "execution_count": 65,
      "metadata": {
        "id": "8q4gadoTSU7J"
      },
      "outputs": [
        {
          "name": "stdout",
          "output_type": "stream",
          "text": [
            "E' un triangolo rettangolo isoscele"
          ]
        }
      ],
      "source": [
        "# Es 4.5: Ottenuti dall'utente tre angoli di un tringolo scrivere a schermo se i tre angoli \n",
        "# descrivono un triangolo isocele o no\n",
        "x = float(input())\n",
        "y = float(input())\n",
        "z = float(input())\n",
        "somma = x+y+z\n",
        "if x>0 and y>0 and z>0:\n",
        "    if somma == 180:\n",
        "        print(\"E' un triangolo\", end=\"\")\n",
        "        if x==90 or y==90 or z==90:\n",
        "            print(\" rettangolo\", end=\"\")\n",
        "        if x==60 and y==60 and z==60:\n",
        "            print(\" equilatero\", end=\"\")\n",
        "        if x==y or y==z or x==z:\n",
        "            print(\" isoscele\", end=\"\")\n",
        "    else:\n",
        "        print(\"Non è un triangolo\")\n",
        "else: \n",
        "    print(\"Inserire degli angoli maggiori di 0. Grazie :)\")"
      ]
    },
    {
      "cell_type": "code",
      "execution_count": 66,
      "metadata": {
        "id": "yVIE2kK3SYlq"
      },
      "outputs": [
        {
          "name": "stdout",
          "output_type": "stream",
          "text": [
            "E' un triangolo scaleno\n"
          ]
        }
      ],
      "source": [
        "# Es 4.6: Ottenuti dall'utente tre angoli di un tringolo scrivere a schermo se i tre angoli descrivono un triangolo isocele, rettagolo, equilatero o scaleno\n",
        "x = float(input())\n",
        "y = float(input())\n",
        "z = float(input())\n",
        "somma = x+y+z\n",
        "if x>0 and y>0 and z>0:\n",
        "    if somma == 180:\n",
        "        print(\"E' un triangolo\", end=\"\")\n",
        "        if x==90 or y==90 or z==90:\n",
        "            print(\" rettangolo\", end=\"\")\n",
        "        if x==60 and y==60 and z==60:\n",
        "            print(\" equilatero\", end=\"\")\n",
        "        if x==y or y==z or x==z:\n",
        "            print(\" isoscele\", end=\"\")\n",
        "        if x!=y and x!=z and z!=y:\n",
        "            print(\" scaleno\")\n",
        "    else:\n",
        "        print(\"Non è un triangolo\")\n",
        "else: \n",
        "    print(\"Inserire degli angoli maggiori di 0. Grazie :)\")"
      ]
    },
    {
      "cell_type": "markdown",
      "metadata": {
        "id": "ef5snVxLqeQh"
      },
      "source": [
        "# Esercizi WHILE\n"
      ]
    },
    {
      "cell_type": "code",
      "execution_count": 67,
      "metadata": {
        "id": "j61RqiHxqdmh"
      },
      "outputs": [
        {
          "name": "stdout",
          "output_type": "stream",
          "text": [
            "Scrivi qualcosa: heyyyybrpppp\n",
            "Quante volte vuoi ripetere quello che hai scritto: 15\n",
            "heyyyybrpppp\n",
            "heyyyybrpppp\n",
            "heyyyybrpppp\n",
            "heyyyybrpppp\n",
            "heyyyybrpppp\n",
            "heyyyybrpppp\n",
            "heyyyybrpppp\n",
            "heyyyybrpppp\n",
            "heyyyybrpppp\n",
            "heyyyybrpppp\n",
            "heyyyybrpppp\n",
            "heyyyybrpppp\n",
            "heyyyybrpppp\n",
            "heyyyybrpppp\n",
            "heyyyybrpppp\n",
            "None\n"
          ]
        }
      ],
      "source": [
        "# Es 4.7: Creare una funzione print_n(n,v) che stampi n volte il. contenuto di v\n",
        "\n",
        "#print(\"Scrivi qualcosa: \", end=\"\")\n",
        "#v=input()\n",
        "#print(v)\n",
        "#print(\"Quante volte vuoi ripetere quello che hai scritto: \", end=\"\")\n",
        "#n=int(input())\n",
        "#print(n)\n",
        "#def print_n(n,v):\n",
        "#    i = 0\n",
        "#    while i<n:\n",
        "#        print(v)\n",
        "#        i+=1\n",
        "#print(print_n(n,v))\n",
        "\n",
        "#oppure ANZI MEGLIO + controllo valori con ciclo while \n",
        "\n",
        "print(\"Scrivi qualcosa: \", end=\"\")\n",
        "v=input()\n",
        "print(v)\n",
        "print(\"Quante volte vuoi ripetere quello che hai scritto: \", end=\"\")\n",
        "n=int(input())\n",
        "print(n)\n",
        "if n<0:\n",
        "    while n<0:\n",
        "        print(\"Quante volte vuoi ripetere quello che hai scritto: \",end=\"\")\n",
        "        n=int(input())\n",
        "        print(n)\n",
        "def print_n(n,v):\n",
        "    for n in range (0,n):\n",
        "        print(v)\n",
        "print(print_n(n,v))\n",
        "\n"
      ]
    },
    {
      "cell_type": "code",
      "execution_count": 68,
      "metadata": {
        "colab": {
          "base_uri": "https://localhost:8080/"
        },
        "id": "-6lAm-hfq9w9",
        "outputId": "399e82ba-3cfe-475f-f8df-0e156677ec75"
      },
      "outputs": [
        {
          "name": "stdout",
          "output_type": "stream",
          "text": [
            "Inserisci un numero n: 50\n",
            "1\n",
            "2\n",
            "5\n",
            "10\n",
            "25\n",
            "50\n"
          ]
        }
      ],
      "source": [
        "# Es 4.8: Inserito il numero n dire per quali numeri, compresi tra 1 e n, è divisibile.\n",
        "# Inserisco 10: stampo 1,2,5\n",
        "# Inserisco 7: stampo 1\n",
        "print(\"Inserisci un numero n: \", end=\"\")\n",
        "n=int(input())\n",
        "print(n)\n",
        "if n<0:\n",
        "    while n<0:\n",
        "        print(\"Inserisci un numero n: \",end=\"\")\n",
        "        n=int(input())\n",
        "        print(n)\n",
        "i = 1\n",
        "while i <= n:\n",
        "    if n % i == 0:\n",
        "        print(i)\n",
        "    i += 1\n",
        "\n",
        "#oppure si può creare una lista \"divisibili\" e poi stamparla -->l'esercizio dopo l'ho fatto con la lista :)\n",
        "#utilizzare il for per questo programma sarebbe poco pratico \n"
      ]
    },
    {
      "cell_type": "code",
      "execution_count": 69,
      "metadata": {
        "colab": {
          "base_uri": "https://localhost:8080/"
        },
        "id": "GjC4LdR7rP-b",
        "outputId": "9f539b4d-c307-479a-da13-610a7e1cc46e"
      },
      "outputs": [
        {
          "name": "stdout",
          "output_type": "stream",
          "text": [
            "Inserire un numero: -90\n",
            "Inserisci un numero n: 90\n",
            "Il numero che hai inserito non e' primo :(\n"
          ]
        }
      ],
      "source": [
        "# Es 4.9: Inserito il numero n dire se è primo o no\n",
        "print(\"Inserire un numero: \",end=\"\")\n",
        "n=int(input())\n",
        "print(n)\n",
        "if n<0:\n",
        "    while n<0:\n",
        "        print(\"Inserisci un numero n: \",end=\"\")\n",
        "        n=int(input())\n",
        "        print(n)\n",
        "divisibili = []\n",
        "i=1\n",
        "while i<=n:\n",
        "    if n%i==0:\n",
        "        divisibili.append(i)\n",
        "    i=i+1\n",
        "if n==1: \n",
        "    print(\"Il numero che hai inserito e' primo\")\n",
        "if divisibili[1]==n and divisibili[0]==1:\n",
        "    print(\"Il numero che hai inserito e' primo :)\")\n",
        "else:\n",
        "    print(\"Il numero che hai inserito non e' primo :(\")\n",
        "\n",
        "#se il numero è primo, nella lista ci saranno al massimo 2 elementi \n",
        "#in posizione 0 --> 1\n",
        "#in posizione 1 --> il numero stesso\n",
        "#ECCEZIONE: se n=1 la lista è formata da un solo elemento, dunque se l'elemento inserito è 1 ALLORA stampa DIRETTAMENTE CHE E' PRIMO"
      ]
    },
    {
      "cell_type": "code",
      "execution_count": 70,
      "metadata": {
        "colab": {
          "base_uri": "https://localhost:8080/"
        },
        "id": "CxtWnOdHsTv4",
        "outputId": "5d874410-cb07-46a2-9c22-83d541b7a91a"
      },
      "outputs": [
        {
          "name": "stdout",
          "output_type": "stream",
          "text": [
            "Inserisci 2 numeri: \n",
            "1 ° numero: 12\n",
            "2 ° numero: -3\n",
            "2 ° numero: 3\n",
            "Moltiplicazione:  36\n",
            "None\n"
          ]
        },
        {
          "data": {
            "text/plain": [
              "'\\nprint(\"Inserire il primo numero: \",end=\"\")\\nx=int(input())\\nprint(x)\\nprint(\"Inserire il secondo numero: \",end=\"\")\\ny=int(input())\\nprint(y)\\nif x<0 or y<0:\\n    while x<0 or y<0:\\n        print(\"Inserire il primo numero: \",end=\"\")\\n        x=int(input())\\n        print(x)\\n        print(\"Inserire il secondo numero: \",end=\"\")\\n        y=int(input())\\n        print(y)\\ndef moltiplica(x,y):\\n    somma=0\\n    l=1\\n    while l<=y:\\n        somma = somma + x\\n        l=l+1\\n    print(somma)\\nprint(moltiplica(x,y))\\n'"
            ]
          },
          "execution_count": 70,
          "metadata": {},
          "output_type": "execute_result"
        }
      ],
      "source": [
        "# Es 4.10: Creare la funzione moltiplica che restituisce il prodotto tra due numeri senza utilizzare *\n",
        "# 3*4 è uguale a 4+4+4\n",
        "\n",
        "print(\"Inserisci 2 numeri: \")\n",
        "numeri = []\n",
        "i=1\n",
        "while i<=2:\n",
        "    print(i,\"° numero: \",end=\"\")\n",
        "    x=int(input())\n",
        "    print(x)\n",
        "    if x<0:\n",
        "        while x<0:\n",
        "            print(i,\"° numero: \",end=\"\")\n",
        "            x=int(input())\n",
        "            print(x)\n",
        "    numeri.append(x)\n",
        "    i=i+1\n",
        "def moltiplica(numeri):\n",
        "    l=1\n",
        "    somma=0\n",
        "    while l<=numeri[1]:\n",
        "        somma=somma+numeri[0]\n",
        "        l=l+1\n",
        "    print(\"Moltiplicazione: \",somma)\n",
        "print(moltiplica(numeri))\n",
        "\n",
        "#era carino da fare :)\n",
        "#oppure molto più semplicemente \n",
        "'''\n",
        "print(\"Inserire il primo numero: \",end=\"\")\n",
        "x=int(input())\n",
        "print(x)\n",
        "print(\"Inserire il secondo numero: \",end=\"\")\n",
        "y=int(input())\n",
        "print(y)\n",
        "if x<0 or y<0:\n",
        "    while x<0 or y<0:\n",
        "        print(\"Inserire il primo numero: \",end=\"\")\n",
        "        x=int(input())\n",
        "        print(x)\n",
        "        print(\"Inserire il secondo numero: \",end=\"\")\n",
        "        y=int(input())\n",
        "        print(y)\n",
        "def moltiplica(x,y):\n",
        "    somma=0\n",
        "    l=1\n",
        "    while l<=y:\n",
        "        somma = somma + x\n",
        "        l=l+1\n",
        "    print(somma)\n",
        "print(moltiplica(x,y))\n",
        "'''"
      ]
    }
  ],
  "metadata": {
    "colab": {
      "provenance": []
    },
    "kernelspec": {
      "display_name": "Python 3",
      "name": "python3"
    },
    "language_info": {
      "codemirror_mode": {
        "name": "ipython",
        "version": 3
      },
      "file_extension": ".py",
      "mimetype": "text/x-python",
      "name": "python",
      "nbconvert_exporter": "python",
      "pygments_lexer": "ipython3",
      "version": "3.10.8"
    }
  },
  "nbformat": 4,
  "nbformat_minor": 0
}
